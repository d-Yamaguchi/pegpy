{
 "cells": [
  {
   "cell_type": "markdown",
   "metadata": {
    "id": "view-in-github",
    "colab_type": "text"
   },
   "source": [
    "<a href=\"https://colab.research.google.com/github/KuramitsuLab/pegpy/blob/master/HowToStartPegpy.ipynb\" target=\"_parent\"><img src=\"https://colab.research.google.com/assets/colab-badge.svg\" alt=\"Open In Colab\"/></a>"
   ]
  },
  {
   "cell_type": "markdown",
   "metadata": {
    "id": "1tTM10-jRB3V",
    "colab_type": "text"
   },
   "source": [
    "# PEGPY の使い方\n",
    "\n",
    "簡単です。"
   ]
  },
  {
   "cell_type": "code",
   "execution_count": 1,
   "metadata": {
    "id": "mIlAaNBHPM4W",
    "colab_type": "code",
    "colab": {
     "base_uri": "https://localhost:8080/",
     "height": 261.0
    },
    "outputId": "6ae0bd11-62b1-49f6-84ef-c508b82f2795"
   },
   "outputs": [
    {
     "name": "stdout",
     "output_type": "stream",
     "text": [
      "Collecting git+https://github.com/KuramitsuLab/pegpy.git\n",
      "  Cloning https://github.com/KuramitsuLab/pegpy.git to /tmp/pip-req-build-2sic0oj6\n",
      "Requirement already satisfied: setuptools in /usr/local/lib/python3.6/dist-packages (from pegpy==0.1.0) (40.5.0)\n",
      "Building wheels for collected packages: pegpy\n",
      "  Running setup.py bdist_wheel for pegpy ... \u001b[?25l-\b \b\\\b \bdone\n",
      "\u001b[?25h  Stored in directory: /tmp/pip-ephem-wheel-cache-sn7n3jng/wheels/17/9f/db/6a144134d4f97b75806c7ab97c292cadee06c6b1315c48f511\n",
      "Successfully built pegpy\n",
      "Installing collected packages: pegpy\n",
      "Successfully installed pegpy-0.1.0\n"
     ]
    }
   ],
   "source": [
    "!pip install git+https://github.com/KuramitsuLab/pegpy.git"
   ]
  },
  {
   "cell_type": "code",
   "execution_count": 6,
   "metadata": {
    "id": "kPGNgdh1PgRm",
    "colab_type": "code",
    "colab": {
     "base_uri": "https://localhost:8080/",
     "height": 108.0
    },
    "outputId": "d41ecaa8-b2ec-4b4d-a5ce-b33b8f20a698"
   },
   "outputs": [
    {
     "name": "stdout",
     "output_type": "stream",
     "text": [
      "OK Expression => [#Infix left=[#Infix left=[#Int '1'] name=[# '*'] right=[#Int '2']] name=[# '+'] right=[#Int '3']]\n",
      "OK Expression => [#Infix left=[#Int '1'] name=[# '+'] right=[#Infix left=[#Int '2'] name=[# '*'] right=[#Int '3']]]\n",
      "OK Int => [#Int '123']\n"
     ]
    }
   ],
   "source": [
    "from pegpy.peg import Grammar,nez\n",
    "g = Grammar('x')\n",
    "g.load('math.tpeg')\n",
    "g.testAll()\n"
   ]
  },
  {
   "cell_type": "code",
   "execution_count": 7,
   "metadata": {
    "id": "BfvosO2qQL5C",
    "colab_type": "code",
    "colab": {
     "base_uri": "https://localhost:8080/",
     "height": 74.0
    },
    "outputId": "cd25a229-4bed-49f8-8c26-8090395c0462"
   },
   "outputs": [
    {
     "name": "stdout",
     "output_type": "stream",
     "text": [
      "[#Infix left=[#Infix left=[#Int '1'] name=[# '+'] right=[#Int '2']] name=[# '+'] right=[#Infix left=[#Int '3'] name=[# '*'] right=[#Int '4']]]\n"
     ]
    }
   ],
   "source": [
    "parser = nez(g)\n",
    "print(parser('1+2+3*4'))\n"
   ]
  }
 ],
 "metadata": {
  "colab": {
   "name": "HowToStartPegpy.ipynb",
   "version": "0.3.2",
   "provenance": [],
   "collapsed_sections": [],
   "include_colab_link": true
  },
  "kernelspec": {
   "name": "python3",
   "display_name": "Python 3"
  }
 },
 "nbformat": 4,
 "nbformat_minor": 0
}
